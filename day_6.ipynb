{
 "cells": [
  {
   "cell_type": "code",
   "execution_count": 2,
   "metadata": {},
   "outputs": [
    {
     "data": {
      "text/plain": [
       "tuple"
      ]
     },
     "execution_count": 2,
     "metadata": {},
     "output_type": "execute_result"
    }
   ],
   "source": [
    "#Create an empty tuple\n",
    "empty_tuple=()\n",
    "type(empty_tuple)"
   ]
  },
  {
   "cell_type": "code",
   "execution_count": 6,
   "metadata": {},
   "outputs": [
    {
     "data": {
      "text/plain": [
       "tuple"
      ]
     },
     "execution_count": 6,
     "metadata": {},
     "output_type": "execute_result"
    }
   ],
   "source": [
    "#Create a tuple containing name of your sisters and your brothers\n",
    "brothers=('ss','sss','dd','ddd')\n",
    "type(brothers)\n",
    "sisters=('s','ks','mm','mmm')\n",
    "type(sisters)\n"
   ]
  },
  {
   "cell_type": "code",
   "execution_count": 7,
   "metadata": {},
   "outputs": [
    {
     "data": {
      "text/plain": [
       "('ss', 'sss', 'dd', 'ddd', 's', 'ks', 'mm', 'mmm')"
      ]
     },
     "execution_count": 7,
     "metadata": {},
     "output_type": "execute_result"
    }
   ],
   "source": [
    "#Join brothers and sisters tuples and assign it to siblings\n",
    "siblings=brothers+sisters\n",
    "siblings"
   ]
  },
  {
   "cell_type": "code",
   "execution_count": 8,
   "metadata": {},
   "outputs": [
    {
     "data": {
      "text/plain": [
       "8"
      ]
     },
     "execution_count": 8,
     "metadata": {},
     "output_type": "execute_result"
    }
   ],
   "source": [
    "#How many siblings do you have ?\n",
    "len(siblings)"
   ]
  },
  {
   "cell_type": "code",
   "execution_count": 11,
   "metadata": {},
   "outputs": [
    {
     "data": {
      "text/plain": [
       "('ss', 'sss', 'dd', 'ddd', 's', 'ks', 'mm', 'mmm', 'GGG', 'MMM')"
      ]
     },
     "execution_count": 11,
     "metadata": {},
     "output_type": "execute_result"
    }
   ],
   "source": [
    "#Modify the siblings tuple and add the name of your father and mother and assign it to family_members\n",
    "fa=('GGG','MMM')\n",
    "\n",
    "family_members=siblings+ fa\n",
    "family_members"
   ]
  },
  {
   "cell_type": "code",
   "execution_count": 19,
   "metadata": {},
   "outputs": [
    {
     "data": {
      "text/plain": [
       "('ss', 'sss', 'dd', 'ddd')"
      ]
     },
     "execution_count": 19,
     "metadata": {},
     "output_type": "execute_result"
    }
   ],
   "source": [
    "#Unpack siblings and parents from family_members\n",
    "brothers=family_members[0:4]\n",
    "brothers"
   ]
  },
  {
   "cell_type": "code",
   "execution_count": 20,
   "metadata": {},
   "outputs": [
    {
     "data": {
      "text/plain": [
       "('s', 'ks', 'mm', 'mmm')"
      ]
     },
     "execution_count": 20,
     "metadata": {},
     "output_type": "execute_result"
    }
   ],
   "source": [
    "sisters=family_members[4:8]\n",
    "sisters"
   ]
  },
  {
   "cell_type": "code",
   "execution_count": 21,
   "metadata": {},
   "outputs": [
    {
     "data": {
      "text/plain": [
       "('GGG', 'MMM')"
      ]
     },
     "execution_count": 21,
     "metadata": {},
     "output_type": "execute_result"
    }
   ],
   "source": [
    "parensts=family_members[-2:]\n",
    "parensts"
   ]
  },
  {
   "cell_type": "code",
   "execution_count": 41,
   "metadata": {},
   "outputs": [
    {
     "name": "stdout",
     "output_type": "stream",
     "text": [
      "('banana', 'orange', 'mango', 'lemon', 'Tomato', 'Potato', 'Cabbage', 'Onion', 'Carrot', 'milk', 'cheese', 'yogurt', 'mayonnaise', 'eggnog', 'custard')\n"
     ]
    }
   ],
   "source": [
    "#Create a fruits, vegetables and animal products tuples. Join the three tuples and assign it to a variable called food_stuff.\n",
    "fruits=('banana', 'orange', 'mango', 'lemon')\n",
    "vegetables=('Tomato', 'Potato', 'Cabbage','Onion', 'Carrot')\n",
    "animal_products=('milk', 'cheese', 'yogurt', 'mayonnaise', 'eggnog', 'custard') \n",
    "food_stuff=fruits+vegetables+animal_products\n",
    "print(food_stuff)"
   ]
  },
  {
   "cell_type": "code",
   "execution_count": 27,
   "metadata": {},
   "outputs": [],
   "source": [
    "#Slice out the middle item or items from the food_staff list\n",
    "m=len(food_stuff)/2"
   ]
  },
  {
   "cell_type": "code",
   "execution_count": 31,
   "metadata": {},
   "outputs": [
    {
     "name": "stdout",
     "output_type": "stream",
     "text": [
      "Carrot Onion\n"
     ]
    }
   ],
   "source": [
    "m1=m+.5\n",
    "\n",
    "m2=m-.5\n",
    "print(food_stuff[int(m1)], food_stuff[int(m2)])"
   ]
  },
  {
   "cell_type": "code",
   "execution_count": 36,
   "metadata": {},
   "outputs": [
    {
     "name": "stdout",
     "output_type": "stream",
     "text": [
      "('banana', 'orange', 'mango', 'mayonnaise', 'eggnog', 'custard')\n"
     ]
    }
   ],
   "source": [
    "#Slice out the first three items and the last three items from food_staff list\n",
    "first_three=food_stuff[:3]\n",
    "last_three=food_stuff[-3:]\n",
    "food=first_three+last_three\n",
    "print(food)"
   ]
  },
  {
   "cell_type": "code",
   "execution_count": 42,
   "metadata": {},
   "outputs": [],
   "source": [
    "#Delete the food_staff list completely\n",
    "food_stuff=list(food_stuff).clear()\n",
    "food_stuff"
   ]
  },
  {
   "cell_type": "code",
   "execution_count": 43,
   "metadata": {},
   "outputs": [
    {
     "data": {
      "text/plain": [
       "False"
      ]
     },
     "execution_count": 43,
     "metadata": {},
     "output_type": "execute_result"
    }
   ],
   "source": [
    "#Check if an item exist in a tuple:\n",
    "nordic_countries = ('Denmark', 'Finland','Iceland', 'Norway', 'Sweden')\n",
    "'Estonia' in nordic_countries"
   ]
  },
  {
   "cell_type": "code",
   "execution_count": 44,
   "metadata": {},
   "outputs": [
    {
     "data": {
      "text/plain": [
       "True"
      ]
     },
     "execution_count": 44,
     "metadata": {},
     "output_type": "execute_result"
    }
   ],
   "source": [
    "'Iceland' in nordic_countries"
   ]
  },
  {
   "cell_type": "code",
   "execution_count": null,
   "metadata": {},
   "outputs": [],
   "source": []
  }
 ],
 "metadata": {
  "kernelspec": {
   "display_name": "Python 3",
   "language": "python",
   "name": "python3"
  },
  "language_info": {
   "codemirror_mode": {
    "name": "ipython",
    "version": 3
   },
   "file_extension": ".py",
   "mimetype": "text/x-python",
   "name": "python",
   "nbconvert_exporter": "python",
   "pygments_lexer": "ipython3",
   "version": "3.7.4"
  }
 },
 "nbformat": 4,
 "nbformat_minor": 2
}

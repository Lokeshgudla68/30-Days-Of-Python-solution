{
 "cells": [
  {
   "cell_type": "code",
   "execution_count": 1,
   "metadata": {},
   "outputs": [],
   "source": [
    "#'Day 2: 30 Days of python programming'"
   ]
  },
  {
   "cell_type": "code",
   "execution_count": null,
   "metadata": {},
   "outputs": [],
   "source": []
  },
  {
   "cell_type": "code",
   "execution_count": 21,
   "metadata": {},
   "outputs": [
    {
     "name": "stdout",
     "output_type": "stream",
     "text": [
      "Shahriar\n"
     ]
    },
    {
     "data": {
      "text/plain": [
       "str"
      ]
     },
     "execution_count": 21,
     "metadata": {},
     "output_type": "execute_result"
    }
   ],
   "source": [
    "#Declare a first name variable and assign a value to it\n",
    "first_name=\"Shahriar\"\n",
    "print(first_name)\n",
    "type(first_name)"
   ]
  },
  {
   "cell_type": "code",
   "execution_count": null,
   "metadata": {},
   "outputs": [],
   "source": []
  },
  {
   "cell_type": "code",
   "execution_count": 17,
   "metadata": {},
   "outputs": [
    {
     "name": "stdout",
     "output_type": "stream",
     "text": [
      "Karim Saurov\n"
     ]
    },
    {
     "data": {
      "text/plain": [
       "str"
      ]
     },
     "execution_count": 17,
     "metadata": {},
     "output_type": "execute_result"
    }
   ],
   "source": [
    "#Declare a last name variable and assign a value to it\n",
    "last_name=\"Karim Saurov\"\n",
    "print(last_name)\n",
    "type(last_name)"
   ]
  },
  {
   "cell_type": "code",
   "execution_count": null,
   "metadata": {},
   "outputs": [],
   "source": []
  },
  {
   "cell_type": "code",
   "execution_count": 6,
   "metadata": {},
   "outputs": [
    {
     "name": "stdout",
     "output_type": "stream",
     "text": [
      "Shahriar Karim Saurov\n"
     ]
    },
    {
     "data": {
      "text/plain": [
       "str"
      ]
     },
     "execution_count": 6,
     "metadata": {},
     "output_type": "execute_result"
    }
   ],
   "source": [
    "#Declare a full name variable and assign a value to it\n",
    "full_name=\"Shahriar Karim Saurov\"\n",
    "print(full_name)\n",
    "type(full_name)"
   ]
  },
  {
   "cell_type": "code",
   "execution_count": null,
   "metadata": {},
   "outputs": [],
   "source": []
  },
  {
   "cell_type": "code",
   "execution_count": 7,
   "metadata": {},
   "outputs": [
    {
     "name": "stdout",
     "output_type": "stream",
     "text": [
      "Bangladesh\n"
     ]
    },
    {
     "data": {
      "text/plain": [
       "str"
      ]
     },
     "execution_count": 7,
     "metadata": {},
     "output_type": "execute_result"
    }
   ],
   "source": [
    "#Declare a country variable and assign a value to it\n",
    "country=\"Bangladesh\"\n",
    "print(country)\n",
    "type(country)"
   ]
  },
  {
   "cell_type": "code",
   "execution_count": null,
   "metadata": {},
   "outputs": [],
   "source": []
  },
  {
   "cell_type": "code",
   "execution_count": 8,
   "metadata": {},
   "outputs": [
    {
     "name": "stdout",
     "output_type": "stream",
     "text": [
      "Sylhet\n"
     ]
    },
    {
     "data": {
      "text/plain": [
       "str"
      ]
     },
     "execution_count": 8,
     "metadata": {},
     "output_type": "execute_result"
    }
   ],
   "source": [
    "#Declare a city variable and assign a value to it\n",
    "city='Sylhet'\n",
    "print(city)\n",
    "type(city)"
   ]
  },
  {
   "cell_type": "code",
   "execution_count": null,
   "metadata": {},
   "outputs": [],
   "source": []
  },
  {
   "cell_type": "code",
   "execution_count": 9,
   "metadata": {},
   "outputs": [
    {
     "name": "stdout",
     "output_type": "stream",
     "text": [
      "29\n"
     ]
    },
    {
     "data": {
      "text/plain": [
       "int"
      ]
     },
     "execution_count": 9,
     "metadata": {},
     "output_type": "execute_result"
    }
   ],
   "source": [
    "#Declare an age variable and assign a value to it\n",
    "age=29\n",
    "print(age)\n",
    "type(age)"
   ]
  },
  {
   "cell_type": "code",
   "execution_count": null,
   "metadata": {},
   "outputs": [],
   "source": []
  },
  {
   "cell_type": "code",
   "execution_count": 10,
   "metadata": {},
   "outputs": [
    {
     "name": "stdout",
     "output_type": "stream",
     "text": [
      "2020\n"
     ]
    },
    {
     "data": {
      "text/plain": [
       "int"
      ]
     },
     "execution_count": 10,
     "metadata": {},
     "output_type": "execute_result"
    }
   ],
   "source": [
    "#Declare a year variable and assign a value to it\n",
    "year=2020\n",
    "print(year)\n",
    "type(year)"
   ]
  },
  {
   "cell_type": "code",
   "execution_count": null,
   "metadata": {},
   "outputs": [],
   "source": []
  },
  {
   "cell_type": "code",
   "execution_count": 11,
   "metadata": {},
   "outputs": [
    {
     "name": "stdout",
     "output_type": "stream",
     "text": [
      "False\n"
     ]
    },
    {
     "data": {
      "text/plain": [
       "bool"
      ]
     },
     "execution_count": 11,
     "metadata": {},
     "output_type": "execute_result"
    }
   ],
   "source": [
    "#Declare a variable is_married and assign a value to it\n",
    "is_married=False\n",
    "print(is_married)\n",
    "type(is_married)"
   ]
  },
  {
   "cell_type": "code",
   "execution_count": 12,
   "metadata": {},
   "outputs": [
    {
     "name": "stdout",
     "output_type": "stream",
     "text": [
      "True\n"
     ]
    },
    {
     "data": {
      "text/plain": [
       "bool"
      ]
     },
     "execution_count": 12,
     "metadata": {},
     "output_type": "execute_result"
    }
   ],
   "source": [
    "#Declare a variable is_true and assign a value to it\n",
    "is_true=True\n",
    "print(is_true)\n",
    "type(is_true)"
   ]
  },
  {
   "cell_type": "code",
   "execution_count": 13,
   "metadata": {},
   "outputs": [
    {
     "name": "stdout",
     "output_type": "stream",
     "text": [
      "False\n"
     ]
    },
    {
     "data": {
      "text/plain": [
       "bool"
      ]
     },
     "execution_count": 13,
     "metadata": {},
     "output_type": "execute_result"
    }
   ],
   "source": [
    "#Declare a variable is_light_on and assign a value to it\n",
    "is_light_on=False\n",
    "print(is_light_on)\n",
    "type(is_light_on)"
   ]
  },
  {
   "cell_type": "code",
   "execution_count": null,
   "metadata": {},
   "outputs": [],
   "source": []
  },
  {
   "cell_type": "code",
   "execution_count": 16,
   "metadata": {},
   "outputs": [
    {
     "name": "stdout",
     "output_type": "stream",
     "text": [
      "{'First_name': 'Shahriar', 'Last_name': 'Karim Saurov', 'country': 'Bangladesh', 'age': 29, 'is_married': False}\n"
     ]
    },
    {
     "data": {
      "text/plain": [
       "dict"
      ]
     },
     "execution_count": 16,
     "metadata": {},
     "output_type": "execute_result"
    }
   ],
   "source": [
    "#Declare multiple variable on one line\n",
    "myself={\n",
    "   'First_name':'Shahriar', 'Last_name':'Karim Saurov','country':\"Bangladesh\",'age':29,'is_married':False\n",
    "}\n",
    "print(myself)\n",
    "type(myself)"
   ]
  },
  {
   "cell_type": "code",
   "execution_count": 22,
   "metadata": {},
   "outputs": [
    {
     "data": {
      "text/plain": [
       "8"
      ]
     },
     "execution_count": 22,
     "metadata": {},
     "output_type": "execute_result"
    }
   ],
   "source": [
    "#Using the len() built-in function find the length of your first name\n",
    "len(first_name)"
   ]
  },
  {
   "cell_type": "code",
   "execution_count": null,
   "metadata": {},
   "outputs": [],
   "source": []
  },
  {
   "cell_type": "code",
   "execution_count": 23,
   "metadata": {},
   "outputs": [
    {
     "data": {
      "text/plain": [
       "4"
      ]
     },
     "execution_count": 23,
     "metadata": {},
     "output_type": "execute_result"
    }
   ],
   "source": [
    "len(last_name)- len(first_name)"
   ]
  },
  {
   "cell_type": "code",
   "execution_count": 28,
   "metadata": {},
   "outputs": [],
   "source": [
    "#Declare 5 as num_one and 4 as num_two\n",
    "num_one=5\n",
    "num_two=4\n",
    "#Add num_one and num_two and assign the value to a variable total\n",
    "variable_total=num_one+num_two\n",
    "#Subtract num_two from num_one and assign the value to a variable diff\n",
    "variable_diff= num_two-num_one \n",
    "#Multiply num_two and num_one and assign the value to a variable product\n",
    "variable_product=num_one*num_two\n",
    "#Divide num_one by num_two and assign the value to a variable division\n",
    "variable_division=num_one/num_two\n",
    "#Use modulus division to find num_two divided by num_one and assign the value to a variable remainder\n",
    "variable_remainder=num_two%num_one\n",
    "#Calculate num_one the power of num_two and assign the value to a variable exp\n",
    "variable_exp=num_one**num_two\n",
    "#Find floor division of num_one by num_two and assign the value to a variable floor_division\n",
    "variable_floor_division=num_one//num_two\n"
   ]
  },
  {
   "cell_type": "code",
   "execution_count": 30,
   "metadata": {},
   "outputs": [
    {
     "name": "stdout",
     "output_type": "stream",
     "text": [
      "variable total : 9\n",
      "variable diff : -1\n",
      "variable product : 20\n",
      "variable division : 1.25\n",
      "variable remainder : 4\n",
      "variable exp : 625\n",
      "variable floor_division : 1\n"
     ]
    }
   ],
   "source": [
    "print('variable total :', variable_total)\n",
    "print('variable diff :', variable_diff)\n",
    "print('variable product :', variable_product)\n",
    "print('variable division :',variable_division)\n",
    "print('variable remainder :',variable_remainder)\n",
    "print('variable exp :',variable_exp)\n",
    "print('variable floor_division :',variable_floor_division)"
   ]
  },
  {
   "cell_type": "code",
   "execution_count": 32,
   "metadata": {},
   "outputs": [
    {
     "name": "stdout",
     "output_type": "stream",
     "text": [
      "Area of the circle is :2827.44\n",
      "Circumference  of the circle is :188.496\n"
     ]
    }
   ],
   "source": [
    "r=30\n",
    "area_of_circle= 3.1416 * r**2\n",
    "circum_of_circle= 2* 3.1416*r\n",
    "print('Area of the circle is :' + str(area_of_circle))\n",
    "print('Circumference  of the circle is :' + str(circum_of_circle))"
   ]
  },
  {
   "cell_type": "code",
   "execution_count": null,
   "metadata": {},
   "outputs": [],
   "source": []
  },
  {
   "cell_type": "code",
   "execution_count": 36,
   "metadata": {},
   "outputs": [
    {
     "name": "stdout",
     "output_type": "stream",
     "text": [
      "what is the radius?30\n",
      "Area of the circle is :2827.44\n",
      "Circumference  of the circle is :188.496\n"
     ]
    }
   ],
   "source": [
    "r1=input('what is the radius? ')\n",
    "area_of_circle= 3.1416 * int(r1)**2\n",
    "circum_of_circle= 2* 3.1416*int(r1)\n",
    "print('Area of the circle is :' + str(area_of_circle))\n",
    "print('Circumference  of the circle is :' + str(circum_of_circle))"
   ]
  },
  {
   "cell_type": "code",
   "execution_count": null,
   "metadata": {},
   "outputs": [],
   "source": []
  },
  {
   "cell_type": "code",
   "execution_count": 38,
   "metadata": {},
   "outputs": [
    {
     "name": "stdout",
     "output_type": "stream",
     "text": [
      "What is your first name?shah\n",
      "What is your last name?kar\n",
      "How old are you? 33\n",
      "Where are you from? bb\n",
      "{'First_name': 'shah', 'Last_name': 'kar', 'country': 'bb', 'age': '33'}\n"
     ]
    },
    {
     "data": {
      "text/plain": [
       "dict"
      ]
     },
     "execution_count": 38,
     "metadata": {},
     "output_type": "execute_result"
    }
   ],
   "source": [
    "first_name=input('What is your first name? ')\n",
    "last_name=input('What is your last name? ')\n",
    "age=input('How old are you? ')\n",
    "country= input('Where are you from? ')\n",
    "myself2={\n",
    "   'First_name':first_name, 'Last_name':last_name,'country':country,'age':age\n",
    "}\n",
    "print(myself2)\n",
    "type(myself2)"
   ]
  },
  {
   "cell_type": "code",
   "execution_count": null,
   "metadata": {},
   "outputs": [],
   "source": []
  }
 ],
 "metadata": {
  "kernelspec": {
   "display_name": "Python 3",
   "language": "python",
   "name": "python3"
  },
  "language_info": {
   "codemirror_mode": {
    "name": "ipython",
    "version": 3
   },
   "file_extension": ".py",
   "mimetype": "text/x-python",
   "name": "python",
   "nbconvert_exporter": "python",
   "pygments_lexer": "ipython3",
   "version": "3.7.4"
  }
 },
 "nbformat": 4,
 "nbformat_minor": 2
}
